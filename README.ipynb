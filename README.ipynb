{
 "cells": [
  {
   "cell_type": "markdown",
   "metadata": {},
   "source": [
    "# Ramachandran-Map-plotter\n",
    "-------------\n",
    "This is a program to plot the Ramachandran Map of DNA sequences and calculate the Backbone Torsion Angles of the DNA. \n",
    "On running the program, it reads the PDB ids from the question6.txt file and checks whether the required DNA sequence is already present in the PDB folder. If not it downloads the sequence. It then plots the Ramachandran Map and stores the .png files in `RMAP-Projects`. It also calculates the backbone torsion angles and the ingnored residues of the DNA sequence.\n",
    "The torsion angle is given by\n",
    "$$\\phi=\\tau(a,b,c)$$\n",
    "where $\\phi$ is the torsion angle and $a, b,c$ are the vectors between four atoms in the molecule.\n",
    "<p align=\"center\">\n",
    "  <img src=\"Images/phivector.png\" />\n",
    "</p>\n",
    "\n",
    "### Requirements\n",
    "* Python 3.8 or above\n",
    "* numpy\n",
    "* Biopython\n",
    "* RamachanDraw\n",
    "* matplotlib\n",
    "\n",
    "## Example\n",
    "---\n",
    "### Plotting the Ramachandran Map of 1AXC\n",
    "**Example from wikipedia -**\n",
    "<br />\n",
    "<p align=\"center\">\n",
    "  <img src=\"RMAP-Projects/1axc_PCNA_ProCheck_Rama.jpg\" />\n",
    "</p>\n",
    "\n",
    "**Example from program -**\n",
    "<br />\n",
    "<p align=\"center\">\n",
    "  <img src=\"RMAP-Projects/1AXC.png\" />\n",
    "</p>\n"
   ]
  }
 ],
 "metadata": {
  "kernelspec": {
   "display_name": "Python 3",
   "language": "python",
   "name": "python3"
  },
  "language_info": {
   "codemirror_mode": {
    "name": "ipython",
    "version": 3
   },
   "file_extension": ".py",
   "mimetype": "text/x-python",
   "name": "python",
   "nbconvert_exporter": "python",
   "pygments_lexer": "ipython3",
   "version": "3.8.5-final"
  }
 },
 "nbformat": 4,
 "nbformat_minor": 2
}